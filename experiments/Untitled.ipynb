{
 "cells": [
  {
   "cell_type": "code",
   "execution_count": null,
   "id": "4b055363-65ee-44ed-bb91-16acb7076985",
   "metadata": {},
   "outputs": [],
   "source": [
    "import dash\n",
    "import dash_bootstrap_components as dbc\n",
    "import dash_html_components as html\n",
    "from dash.dependencies import Input, Output\n",
    "\n",
    "app = dash.Dash(__name__)\n",
    "text_input = html.Div(\n",
    "    [\n",
    "        dbc.Input(id=\"input\", placeholder=\"Type something...\", type=\"text\"),\n",
    "        html.Br(),\n",
    "        html.P(id=\"output\"),\n",
    "    ]\n",
    ")\n",
    "\n",
    "    \n",
    "@app.callback(Output(\"output\", \"children\"), [Input(\"input\", \"value\")])\n",
    "def output_text(value):\n",
    "    return value\n",
    "\n",
    "if __name__ == \"__main__\":\n",
    "    app.run_server()"
   ]
  },
  {
   "cell_type": "code",
   "execution_count": null,
   "id": "d2e826a4-f69e-430b-a503-8746cd334254",
   "metadata": {},
   "outputs": [],
   "source": []
  }
 ],
 "metadata": {
  "kernelspec": {
   "display_name": "Python 3 (ipykernel)",
   "language": "python",
   "name": "python3"
  },
  "language_info": {
   "codemirror_mode": {
    "name": "ipython",
    "version": 3
   },
   "file_extension": ".py",
   "mimetype": "text/x-python",
   "name": "python",
   "nbconvert_exporter": "python",
   "pygments_lexer": "ipython3",
   "version": "3.9.7"
  }
 },
 "nbformat": 4,
 "nbformat_minor": 5
}
