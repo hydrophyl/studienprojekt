{
 "cells": [
  {
   "cell_type": "code",
   "execution_count": null,
   "id": "4b055363-65ee-44ed-bb91-16acb7076985",
   "metadata": {},
   "outputs": [
    {
     "name": "stdout",
     "output_type": "stream",
     "text": [
      "Dash is running on http://127.0.0.1:8050/\n",
      "\n",
      "Dash is running on http://127.0.0.1:8050/\n",
      "\n",
      "Dash is running on http://127.0.0.1:8050/\n",
      "\n",
      " * Serving Flask app '__main__' (lazy loading)\n",
      " * Environment: production\n",
      "\u001b[31m   WARNING: This is a development server. Do not use it in a production deployment.\u001b[0m\n",
      "\u001b[2m   Use a production WSGI server instead.\u001b[0m\n",
      " * Debug mode: off\n"
     ]
    },
    {
     "name": "stderr",
     "output_type": "stream",
     "text": [
      " * Running on http://127.0.0.1:8050/ (Press CTRL+C to quit)\n"
     ]
    },
    {
     "name": "stdout",
     "output_type": "stream",
     "text": [
      "Exception on / [GET]\n",
      "Traceback (most recent call last):\n",
      "  File \"C:\\Users\\forev\\miniconda3\\envs\\pmsensor\\lib\\site-packages\\flask\\app.py\", line 2073, in wsgi_app\n",
      "    response = self.full_dispatch_request()\n",
      "  File \"C:\\Users\\forev\\miniconda3\\envs\\pmsensor\\lib\\site-packages\\flask\\app.py\", line 1511, in full_dispatch_request\n",
      "    self.try_trigger_before_first_request_functions()\n",
      "  File \"C:\\Users\\forev\\miniconda3\\envs\\pmsensor\\lib\\site-packages\\flask\\app.py\", line 1563, in try_trigger_before_first_request_functions\n",
      "    self.ensure_sync(func)()\n",
      "  File \"C:\\Users\\forev\\miniconda3\\envs\\pmsensor\\lib\\site-packages\\dash\\dash.py\", line 1095, in _setup_server\n",
      "    _validate.validate_layout(self.layout, self._layout_value())\n",
      "  File \"C:\\Users\\forev\\miniconda3\\envs\\pmsensor\\lib\\site-packages\\dash\\_validate.py\", line 339, in validate_layout\n",
      "    raise exceptions.NoLayoutException(\n",
      "dash.exceptions.NoLayoutException: The layout was `None` at the time that `run_server` was called.\n",
      "Make sure to set the `layout` attribute of your application\n",
      "before running the server.\n",
      "Exception on / [GET]\n",
      "Traceback (most recent call last):\n",
      "  File \"C:\\Users\\forev\\miniconda3\\envs\\pmsensor\\lib\\site-packages\\flask\\app.py\", line 2073, in wsgi_app\n",
      "    response = self.full_dispatch_request()\n",
      "  File \"C:\\Users\\forev\\miniconda3\\envs\\pmsensor\\lib\\site-packages\\flask\\app.py\", line 1511, in full_dispatch_request\n",
      "    self.try_trigger_before_first_request_functions()\n",
      "  File \"C:\\Users\\forev\\miniconda3\\envs\\pmsensor\\lib\\site-packages\\flask\\app.py\", line 1563, in try_trigger_before_first_request_functions\n",
      "    self.ensure_sync(func)()\n",
      "  File \"C:\\Users\\forev\\miniconda3\\envs\\pmsensor\\lib\\site-packages\\dash\\dash.py\", line 1095, in _setup_server\n",
      "    _validate.validate_layout(self.layout, self._layout_value())\n",
      "  File \"C:\\Users\\forev\\miniconda3\\envs\\pmsensor\\lib\\site-packages\\dash\\_validate.py\", line 339, in validate_layout\n",
      "    raise exceptions.NoLayoutException(\n",
      "dash.exceptions.NoLayoutException: The layout was `None` at the time that `run_server` was called.\n",
      "Make sure to set the `layout` attribute of your application\n",
      "before running the server.\n",
      "Exception on / [GET]\n",
      "Traceback (most recent call last):\n",
      "  File \"C:\\Users\\forev\\miniconda3\\envs\\pmsensor\\lib\\site-packages\\flask\\app.py\", line 2073, in wsgi_app\n",
      "    response = self.full_dispatch_request()\n",
      "  File \"C:\\Users\\forev\\miniconda3\\envs\\pmsensor\\lib\\site-packages\\flask\\app.py\", line 1511, in full_dispatch_request\n",
      "    self.try_trigger_before_first_request_functions()\n",
      "  File \"C:\\Users\\forev\\miniconda3\\envs\\pmsensor\\lib\\site-packages\\flask\\app.py\", line 1563, in try_trigger_before_first_request_functions\n",
      "    self.ensure_sync(func)()\n",
      "  File \"C:\\Users\\forev\\miniconda3\\envs\\pmsensor\\lib\\site-packages\\dash\\dash.py\", line 1095, in _setup_server\n",
      "    _validate.validate_layout(self.layout, self._layout_value())\n",
      "  File \"C:\\Users\\forev\\miniconda3\\envs\\pmsensor\\lib\\site-packages\\dash\\_validate.py\", line 339, in validate_layout\n",
      "    raise exceptions.NoLayoutException(\n",
      "dash.exceptions.NoLayoutException: The layout was `None` at the time that `run_server` was called.\n",
      "Make sure to set the `layout` attribute of your application\n",
      "before running the server.\n"
     ]
    },
    {
     "name": "stderr",
     "output_type": "stream",
     "text": [
      "127.0.0.1 - - [19/Oct/2021 14:46:01] \"GET / HTTP/1.1\" 500 -\n"
     ]
    },
    {
     "name": "stdout",
     "output_type": "stream",
     "text": [
      "Exception on /favicon.ico [GET]\n",
      "Traceback (most recent call last):\n",
      "  File \"C:\\Users\\forev\\miniconda3\\envs\\pmsensor\\lib\\site-packages\\flask\\app.py\", line 2073, in wsgi_app\n",
      "    response = self.full_dispatch_request()\n",
      "  File \"C:\\Users\\forev\\miniconda3\\envs\\pmsensor\\lib\\site-packages\\flask\\app.py\", line 1511, in full_dispatch_request\n",
      "    self.try_trigger_before_first_request_functions()\n",
      "  File \"C:\\Users\\forev\\miniconda3\\envs\\pmsensor\\lib\\site-packages\\flask\\app.py\", line 1563, in try_trigger_before_first_request_functions\n",
      "    self.ensure_sync(func)()\n",
      "  File \"C:\\Users\\forev\\miniconda3\\envs\\pmsensor\\lib\\site-packages\\dash\\dash.py\", line 1095, in _setup_server\n",
      "    _validate.validate_layout(self.layout, self._layout_value())\n",
      "  File \"C:\\Users\\forev\\miniconda3\\envs\\pmsensor\\lib\\site-packages\\dash\\_validate.py\", line 339, in validate_layout\n",
      "    raise exceptions.NoLayoutException(\n",
      "dash.exceptions.NoLayoutException: The layout was `None` at the time that `run_server` was called.\n",
      "Make sure to set the `layout` attribute of your application\n",
      "before running the server.\n",
      "Exception on /favicon.ico [GET]\n",
      "Traceback (most recent call last):\n",
      "  File \"C:\\Users\\forev\\miniconda3\\envs\\pmsensor\\lib\\site-packages\\flask\\app.py\", line 2073, in wsgi_app\n",
      "    response = self.full_dispatch_request()\n",
      "  File \"C:\\Users\\forev\\miniconda3\\envs\\pmsensor\\lib\\site-packages\\flask\\app.py\", line 1511, in full_dispatch_request\n",
      "    self.try_trigger_before_first_request_functions()\n",
      "  File \"C:\\Users\\forev\\miniconda3\\envs\\pmsensor\\lib\\site-packages\\flask\\app.py\", line 1563, in try_trigger_before_first_request_functions\n",
      "    self.ensure_sync(func)()\n",
      "  File \"C:\\Users\\forev\\miniconda3\\envs\\pmsensor\\lib\\site-packages\\dash\\dash.py\", line 1095, in _setup_server\n",
      "    _validate.validate_layout(self.layout, self._layout_value())\n",
      "  File \"C:\\Users\\forev\\miniconda3\\envs\\pmsensor\\lib\\site-packages\\dash\\_validate.py\", line 339, in validate_layout\n",
      "    raise exceptions.NoLayoutException(\n",
      "dash.exceptions.NoLayoutException: The layout was `None` at the time that `run_server` was called.\n",
      "Make sure to set the `layout` attribute of your application\n",
      "before running the server.\n",
      "Exception on /favicon.ico [GET]\n",
      "Traceback (most recent call last):\n",
      "  File \"C:\\Users\\forev\\miniconda3\\envs\\pmsensor\\lib\\site-packages\\flask\\app.py\", line 2073, in wsgi_app\n",
      "    response = self.full_dispatch_request()\n",
      "  File \"C:\\Users\\forev\\miniconda3\\envs\\pmsensor\\lib\\site-packages\\flask\\app.py\", line 1511, in full_dispatch_request\n",
      "    self.try_trigger_before_first_request_functions()\n",
      "  File \"C:\\Users\\forev\\miniconda3\\envs\\pmsensor\\lib\\site-packages\\flask\\app.py\", line 1563, in try_trigger_before_first_request_functions\n",
      "    self.ensure_sync(func)()\n",
      "  File \"C:\\Users\\forev\\miniconda3\\envs\\pmsensor\\lib\\site-packages\\dash\\dash.py\", line 1095, in _setup_server\n",
      "    _validate.validate_layout(self.layout, self._layout_value())\n",
      "  File \"C:\\Users\\forev\\miniconda3\\envs\\pmsensor\\lib\\site-packages\\dash\\_validate.py\", line 339, in validate_layout\n",
      "    raise exceptions.NoLayoutException(\n",
      "dash.exceptions.NoLayoutException: The layout was `None` at the time that `run_server` was called.\n",
      "Make sure to set the `layout` attribute of your application\n",
      "before running the server.\n"
     ]
    },
    {
     "name": "stderr",
     "output_type": "stream",
     "text": [
      "127.0.0.1 - - [19/Oct/2021 14:46:01] \"GET /favicon.ico HTTP/1.1\" 500 -\n"
     ]
    },
    {
     "name": "stdout",
     "output_type": "stream",
     "text": [
      "Exception on / [GET]\n",
      "Traceback (most recent call last):\n",
      "  File \"C:\\Users\\forev\\miniconda3\\envs\\pmsensor\\lib\\site-packages\\flask\\app.py\", line 2073, in wsgi_app\n",
      "    response = self.full_dispatch_request()\n",
      "  File \"C:\\Users\\forev\\miniconda3\\envs\\pmsensor\\lib\\site-packages\\flask\\app.py\", line 1511, in full_dispatch_request\n",
      "    self.try_trigger_before_first_request_functions()\n",
      "  File \"C:\\Users\\forev\\miniconda3\\envs\\pmsensor\\lib\\site-packages\\flask\\app.py\", line 1563, in try_trigger_before_first_request_functions\n",
      "    self.ensure_sync(func)()\n",
      "  File \"C:\\Users\\forev\\miniconda3\\envs\\pmsensor\\lib\\site-packages\\dash\\dash.py\", line 1095, in _setup_server\n",
      "    _validate.validate_layout(self.layout, self._layout_value())\n",
      "  File \"C:\\Users\\forev\\miniconda3\\envs\\pmsensor\\lib\\site-packages\\dash\\_validate.py\", line 339, in validate_layout\n",
      "    raise exceptions.NoLayoutException(\n",
      "dash.exceptions.NoLayoutException: The layout was `None` at the time that `run_server` was called.\n",
      "Make sure to set the `layout` attribute of your application\n",
      "before running the server.\n",
      "Exception on / [GET]\n",
      "Traceback (most recent call last):\n",
      "  File \"C:\\Users\\forev\\miniconda3\\envs\\pmsensor\\lib\\site-packages\\flask\\app.py\", line 2073, in wsgi_app\n",
      "    response = self.full_dispatch_request()\n",
      "  File \"C:\\Users\\forev\\miniconda3\\envs\\pmsensor\\lib\\site-packages\\flask\\app.py\", line 1511, in full_dispatch_request\n",
      "    self.try_trigger_before_first_request_functions()\n",
      "  File \"C:\\Users\\forev\\miniconda3\\envs\\pmsensor\\lib\\site-packages\\flask\\app.py\", line 1563, in try_trigger_before_first_request_functions\n",
      "    self.ensure_sync(func)()\n",
      "  File \"C:\\Users\\forev\\miniconda3\\envs\\pmsensor\\lib\\site-packages\\dash\\dash.py\", line 1095, in _setup_server\n",
      "    _validate.validate_layout(self.layout, self._layout_value())\n",
      "  File \"C:\\Users\\forev\\miniconda3\\envs\\pmsensor\\lib\\site-packages\\dash\\_validate.py\", line 339, in validate_layout\n",
      "    raise exceptions.NoLayoutException(\n",
      "dash.exceptions.NoLayoutException: The layout was `None` at the time that `run_server` was called.\n",
      "Make sure to set the `layout` attribute of your application\n",
      "before running the server.\n",
      "Exception on / [GET]\n",
      "Traceback (most recent call last):\n",
      "  File \"C:\\Users\\forev\\miniconda3\\envs\\pmsensor\\lib\\site-packages\\flask\\app.py\", line 2073, in wsgi_app\n",
      "    response = self.full_dispatch_request()\n",
      "  File \"C:\\Users\\forev\\miniconda3\\envs\\pmsensor\\lib\\site-packages\\flask\\app.py\", line 1511, in full_dispatch_request\n",
      "    self.try_trigger_before_first_request_functions()\n",
      "  File \"C:\\Users\\forev\\miniconda3\\envs\\pmsensor\\lib\\site-packages\\flask\\app.py\", line 1563, in try_trigger_before_first_request_functions\n",
      "    self.ensure_sync(func)()\n",
      "  File \"C:\\Users\\forev\\miniconda3\\envs\\pmsensor\\lib\\site-packages\\dash\\dash.py\", line 1095, in _setup_server\n",
      "    _validate.validate_layout(self.layout, self._layout_value())\n",
      "  File \"C:\\Users\\forev\\miniconda3\\envs\\pmsensor\\lib\\site-packages\\dash\\_validate.py\", line 339, in validate_layout\n",
      "    raise exceptions.NoLayoutException(\n",
      "dash.exceptions.NoLayoutException: The layout was `None` at the time that `run_server` was called.\n",
      "Make sure to set the `layout` attribute of your application\n",
      "before running the server.\n"
     ]
    },
    {
     "name": "stderr",
     "output_type": "stream",
     "text": [
      "127.0.0.1 - - [19/Oct/2021 14:46:05] \"GET / HTTP/1.1\" 500 -\n"
     ]
    }
   ],
   "source": [
    "import dash\n",
    "import dash_bootstrap_components as dbc\n",
    "import dash_html_components as html\n",
    "from dash.dependencies import Input, Output\n",
    "\n",
    "app = dash.Dash(__name__)\n",
    "text_input = html.Div(\n",
    "    [\n",
    "        dbc.Input(id=\"input\", placeholder=\"Type something...\", type=\"text\"),\n",
    "        html.Br(),\n",
    "        html.P(id=\"output\"),\n",
    "    ]\n",
    ")\n",
    "\n",
    "if __name__ == \"__main__\":\n",
    "    app.run_server()\n",
    "    \n",
    "@app.callback(Output(\"output\", \"children\"), [Input(\"input\", \"value\")])\n",
    "def output_text(value):\n",
    "    return value"
   ]
  },
  {
   "cell_type": "code",
   "execution_count": null,
   "id": "d2e826a4-f69e-430b-a503-8746cd334254",
   "metadata": {},
   "outputs": [],
   "source": []
  }
 ],
 "metadata": {
  "kernelspec": {
   "display_name": "Python 3 (ipykernel)",
   "language": "python",
   "name": "python3"
  },
  "language_info": {
   "codemirror_mode": {
    "name": "ipython",
    "version": 3
   },
   "file_extension": ".py",
   "mimetype": "text/x-python",
   "name": "python",
   "nbconvert_exporter": "python",
   "pygments_lexer": "ipython3",
   "version": "3.9.7"
  }
 },
 "nbformat": 4,
 "nbformat_minor": 5
}
