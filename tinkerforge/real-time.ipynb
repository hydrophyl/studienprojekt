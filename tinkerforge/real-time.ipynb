{
 "cells": [
  {
   "cell_type": "code",
   "execution_count": null,
   "id": "sophisticated-abuse",
   "metadata": {
    "tags": []
   },
   "outputs": [],
   "source": [
    "#!/usr/bin/env python\n",
    "# -*- coding: utf-8 -*-\n",
    "\n",
    "HOST = \"localhost\"\n",
    "PORT = 4223\n",
    "UID = \"LdW\" # Change XYZ to the UID of your Particulate Matter Bricklet\n",
    "\n",
    "from tinkerforge.ip_connection import IPConnection\n",
    "from tinkerforge.bricklet_particulate_matter import BrickletParticulateMatter\n",
    "\n",
    "#setting up packages\n",
    "import pandas as pd\n",
    "import datetime\n",
    "from time import strftime,localtime\n",
    "\n",
    "#Erstellung ein pandas dataframe\n",
    "df = pd.DataFrame({'Datum': [],\n",
    "                   'Zeit': [],\n",
    "                   'PM10': [],\n",
    "                   'PM25': [],\n",
    "                   'PM100': []})\n",
    "\n",
    "# Callback function for PM concentration callback\n",
    "def cb_pm_concentration(pm10, pm25, pm100):\n",
    "    #Wiederholungen\n",
    "    time_only = datetime.datetime.now().time().strftime(\"%H:%M:%S\")\n",
    "    date_local = strftime(\"%A, %d %b %Y\", localtime())\n",
    "\n",
    "    #Messungsdaten einfuegen\n",
    "    df.loc[len(df.index)] = [date_local,time_only,pm10,pm25,pm100]\n",
    "\n",
    "    #Update .csv Datei\n",
    "    df.to_csv(\"test.csv\", index=False, encoding='utf8')\n",
    "\n",
    "\n",
    "if __name__ == \"__main__\":\n",
    "    ipcon = IPConnection() # Create IP connection\n",
    "    pm = BrickletParticulateMatter(UID, ipcon) # Create device object\n",
    "\n",
    "    ipcon.connect(HOST, PORT) # Connect to brickd\n",
    "    # Don't use device before ipcon is connected\n",
    "\n",
    "    # Register PM concentration callback to function cb_pm_concentration\n",
    "    pm.register_callback(pm.CALLBACK_PM_CONCENTRATION, cb_pm_concentration)\n",
    "\n",
    "    # Set period for PM concentration callback to 1s (1000ms)\n",
    "    pm.set_pm_concentration_callback_configuration(1000, False)\n",
    "\n",
    "    input(\"Press key to exit\\n\") # Use raw_input() in Python 2\n",
    "    ipcon.disconnect()"
   ]
  },
  {
   "cell_type": "code",
   "execution_count": null,
   "id": "maritime-display",
   "metadata": {},
   "outputs": [],
   "source": []
  }
 ],
 "metadata": {
  "kernelspec": {
   "display_name": "Python 3 (ipykernel)",
   "language": "python",
   "name": "python3"
  },
  "language_info": {
   "codemirror_mode": {
    "name": "ipython",
    "version": 3
   },
   "file_extension": ".py",
   "mimetype": "text/x-python",
   "name": "python",
   "nbconvert_exporter": "python",
   "pygments_lexer": "ipython3",
   "version": "3.9.1"
  }
 },
 "nbformat": 4,
 "nbformat_minor": 5
}
