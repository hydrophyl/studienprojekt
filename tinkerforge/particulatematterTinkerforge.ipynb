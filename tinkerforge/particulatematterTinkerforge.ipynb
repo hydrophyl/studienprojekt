{
 "cells": [
  {
   "cell_type": "code",
   "execution_count": 2,
   "id": "varying-priest",
   "metadata": {},
   "outputs": [
    {
     "name": "stdout",
     "output_type": "stream",
     "text": [
      "PM 1.0: 15 µg/m³\n",
      "PM 2.5: 22 µg/m³\n",
      "PM 10.0: 24 µg/m³\n"
     ]
    },
    {
     "name": "stdin",
     "output_type": "stream",
     "text": [
      "Press key to exit\n",
      " \n"
     ]
    }
   ],
   "source": [
    "#!/usr/bin/env python\n",
    "# -*- coding: utf-8 -*-\n",
    "\n",
    "HOST = \"localhost\"\n",
    "PORT = 4223\n",
    "UID = \"LdW\" # Change XYZ to the UID of your Particulate Matter Bricklet\n",
    "\n",
    "from tinkerforge.ip_connection import IPConnection\n",
    "from tinkerforge.bricklet_particulate_matter import BrickletParticulateMatter\n",
    "\n",
    "if __name__ == \"__main__\":\n",
    "    ipcon = IPConnection() # Create IP connection\n",
    "    pm = BrickletParticulateMatter(UID, ipcon) # Create device object\n",
    "\n",
    "    ipcon.connect(HOST, PORT) # Connect to brickd\n",
    "    # Don't use device before ipcon is connected\n",
    "\n",
    "    # Get current PM concentration\n",
    "    pm10, pm25, pm100 = pm.get_pm_concentration()\n",
    "\n",
    "    print(\"PM 1.0: \" + str(pm10) + \" µg/m³\")\n",
    "    print(\"PM 2.5: \" + str(pm25) + \" µg/m³\")\n",
    "    print(\"PM 10.0: \" + str(pm100) + \" µg/m³\")\n",
    "\n",
    "    input(\"Press key to exit\\n\") # Use raw_input() in Python 2\n",
    "    ipcon.disconnect()"
   ]
  },
  {
   "cell_type": "code",
   "execution_count": null,
   "id": "written-spokesman",
   "metadata": {},
   "outputs": [],
   "source": [
    "#a little high-end code\n",
    "from  prettytable import PrettyTable\n",
    "import time, os\n",
    "from tinkerforge.ip_connection import IPConnection\n",
    "from tinkerforge.bricklet_particulate_matter import BrickletParticulateMatter\n",
    "\n",
    "myTable = PrettyTable([\"PM1.0\", \"PM2.5\", \"PM10.0\"])\n",
    "\n",
    "HOST = \"localhost\"\n",
    "PORT = 4223\n",
    "UID = \"LdW\" # Change XYZ to the UID of your Particulate Matter Bricklet\n",
    "\n",
    "ipcon = IPConnection() # Create IP connection\n",
    "pm = BrickletParticulateMatter(UID, ipcon) # Create device object\n",
    "ipcon.connect(HOST, PORT) # Connect to brickd\n",
    "# Don't use device before ipcon is connected\n",
    "a = \"press Ctrl+C to quit!\"\n",
    "print(a)\n",
    "\n",
    "while True:\n",
    "    pm10, pm25, pm100 = pm.get_pm_concentration()\n",
    "    myTable.add_row([pm10,pm25,pm100])\n",
    "    time.sleep(1) #wait for 250ms\n",
    "    os.system(\"cls\")\n",
    "    print(myTable)\n",
    "\n",
    "ipcon.disconnect"
   ]
  },
  {
   "cell_type": "code",
   "execution_count": null,
   "id": "intellectual-olive",
   "metadata": {},
   "outputs": [],
   "source": []
  }
 ],
 "metadata": {
  "kernelspec": {
   "display_name": "Python 3",
   "language": "python",
   "name": "python3"
  },
  "language_info": {
   "codemirror_mode": {
    "name": "ipython",
    "version": 3
   },
   "file_extension": ".py",
   "mimetype": "text/x-python",
   "name": "python",
   "nbconvert_exporter": "python",
   "pygments_lexer": "ipython3",
   "version": "3.8.8"
  }
 },
 "nbformat": 4,
 "nbformat_minor": 5
}
