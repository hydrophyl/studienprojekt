{
 "cells": [
  {
   "cell_type": "code",
   "execution_count": 1,
   "id": "51ebc4a2-37cc-46ab-998c-e7b134725364",
   "metadata": {},
   "outputs": [
    {
     "name": "stdout",
     "output_type": "stream",
     "text": [
      "Dash app running on http://127.0.0.1:8069/\n"
     ]
    }
   ],
   "source": [
    "import pandas as pd\n",
    "import numpy as np\n",
    "import plotly.express as px\n",
    "import plotly.graph_objects as go\n",
    "from jupyter_dash import JupyterDash\n",
    "import dash_core_components as dcc\n",
    "import dash_html_components as html\n",
    "from dash.dependencies import Input, Output\n",
    "\n",
    "# code and plot setup\n",
    "# settings\n",
    "pd.options.plotting.backend = \"plotly\"\n",
    "countdown = 20\n",
    "#global df\n",
    "\n",
    "# sample dataframe of a wide format\n",
    "np.random.seed(4); cols = list('abc')\n",
    "X = np.random.randn(50,len(cols))  \n",
    "df=pd.DataFrame(X, columns=cols)\n",
    "df.iloc[0]=0;\n",
    "\n",
    "# plotly figure\n",
    "fig = df.plot(template = 'plotly_dark')\n",
    "\n",
    "app = JupyterDash(__name__)\n",
    "app.layout = html.Div([\n",
    "    html.H1(\"Streaming of random data\"),\n",
    "            dcc.Interval(\n",
    "            id='interval-component',\n",
    "            interval=1*1000, # in milliseconds\n",
    "            n_intervals=0\n",
    "        ),\n",
    "    dcc.Graph(id='graph'),\n",
    "])\n",
    "\n",
    "# Define callback to update graph\n",
    "@app.callback(\n",
    "    Output('graph', 'figure'),\n",
    "    [Input('interval-component', \"n_intervals\")]\n",
    ")\n",
    "def streamFig(value):\n",
    "    \n",
    "    global df\n",
    "    \n",
    "    Y = np.random.randn(1,len(cols))  \n",
    "    df2 = pd.DataFrame(Y, columns = cols)\n",
    "    df = df.append(df2, ignore_index=True)#.reset_index()\n",
    "    df.tail()\n",
    "    df3=df.copy()\n",
    "    df3 = df3.cumsum()\n",
    "    fig = df3.plot(template = 'plotly_dark')\n",
    "    #fig.show()\n",
    "    return(fig)\n",
    "\n",
    "app.run_server(mode='external', port = 8069, dev_tools_ui=True, #debug=True,\n",
    "              dev_tools_hot_reload =True, threaded=True)"
   ]
  },
  {
   "cell_type": "code",
   "execution_count": 1,
   "id": "5b98c803-8a30-4ff4-b14d-febded2668e7",
   "metadata": {},
   "outputs": [
    {
     "name": "stderr",
     "output_type": "stream",
     "text": [
      "C:\\Users\\forev\\miniconda3\\envs\\pmsensor\\lib\\site-packages\\matplotlib\\animation.py:973: UserWarning: Animation was deleted without rendering anything. This is most likely unintended. To prevent deletion, assign the Animation to a variable that exists for as long as you need the Animation.\n",
      "  warnings.warn(\n"
     ]
    },
    {
     "data": {
      "text/plain": [
       "<Figure size 432x288 with 0 Axes>"
      ]
     },
     "metadata": {},
     "output_type": "display_data"
    }
   ],
   "source": [
    "#setting up packages\n",
    "import pandas as pd\n",
    "import matplotlib.pyplot as plt\n",
    "from matplotlib.animation import FuncAnimation\n",
    "import plotly.express as px\n",
    "import datetime\n",
    "from time import strftime,localtime\n",
    "#!/usr/bin/env python\n",
    "# -*- coding: utf-8 -*-\n",
    "\n",
    "HOST = \"localhost\"\n",
    "PORT = 4223\n",
    "UID = \"LdW\" # Change XYZ to the UID of your Particulate Matter Bricklet\n",
    "\n",
    "from tinkerforge.ip_connection import IPConnection\n",
    "from tinkerforge.bricklet_particulate_matter import BrickletParticulateMatter\n",
    "\n",
    "#Erstellung ein pandas dataframe\n",
    "df = pd.DataFrame({'Datum': [],\n",
    "                   'Zeit': [],\n",
    "                   'PM10': [],\n",
    "                   'PM25': [],\n",
    "                   'PM100': []})\n",
    "\n",
    "# Callback function for PM concentration callback\n",
    "def cb_pm_concentration(pm10, pm25, pm100):\n",
    "    #Wiederholungen\n",
    "    time_only = datetime.datetime.now().time().strftime(\"%H:%M:%S\")\n",
    "    date_local = strftime(\"%d%b%Y\", localtime())\n",
    "\n",
    "    #Messungsdaten einfuegen\n",
    "    df.loc[len(df.index)] = [date_local,time_only,pm10,pm25,pm100]\n",
    "\n",
    "    #Update .csv Datei\n",
    "    df.to_csv(date_local + \".csv\", index=False, encoding='utf8')\n",
    "\n",
    "date_local = strftime(\"%d%b%Y\", localtime())\n",
    "#Empty arrays for plotting in real-time\n",
    "x_vals = []\n",
    "y1_vals = []\n",
    "y2_vals = []\n",
    "y3_vals = []\n",
    "\n",
    "def animate(i):\n",
    "    feinstaub = pd.read_csv(date_local + '.csv')\n",
    "    x_vals=feinstaub['Zeit']\n",
    "    y1_vals=feinstaub['PM10']\n",
    "    y2_vals=feinstaub['PM25']\n",
    "    y3_vals=feinstaub['PM100']\n",
    "    plt.cla()\n",
    "    plt.plot(x_vals, y1_vals, label='PM1.0')\n",
    "    plt.plot(x_vals, y2_vals, label='PM2.5')\n",
    "    plt.plot(x_vals, y3_vals, label='PM10.0')\n",
    "    plt.xticks([])\n",
    "    plt.legend(loc='upper right')\n",
    "    plt.tight_layout()\n",
    "\n",
    "if __name__ == \"__main__\":\n",
    "    ipcon = IPConnection() # Create IP connection\n",
    "    pm = BrickletParticulateMatter(UID, ipcon) # Create device object\n",
    "\n",
    "    ipcon.connect(HOST, PORT) # Connect to brickd\n",
    "    # Don't use device before ipcon is connected\n",
    "\n",
    "    # Register PM concentration callback to function cb_pm_concentration\n",
    "    pm.register_callback(pm.CALLBACK_PM_CONCENTRATION, cb_pm_concentration)\n",
    "\n",
    "    # Set period for PM concentration callback to 1s (1000ms)\n",
    "    pm.set_pm_concentration_callback_configuration(1000, False)\n",
    "    \n",
    "    ani = FuncAnimation(plt.gcf(), animate, interval=1000)\n",
    "    plt.show()\n",
    "\n",
    "    input(\"Press key to exit\\n\") # Use raw_input() in Python 2\n",
    "    ipcon.disconnect()"
   ]
  },
  {
   "cell_type": "code",
   "execution_count": null,
   "id": "ea6194b9-bad6-4f9b-9a6c-50d21c917fce",
   "metadata": {},
   "outputs": [],
   "source": []
  }
 ],
 "metadata": {
  "kernelspec": {
   "display_name": "Python 3 (ipykernel)",
   "language": "python",
   "name": "python3"
  },
  "language_info": {
   "codemirror_mode": {
    "name": "ipython",
    "version": 3
   },
   "file_extension": ".py",
   "mimetype": "text/x-python",
   "name": "python",
   "nbconvert_exporter": "python",
   "pygments_lexer": "ipython3",
   "version": "3.9.7"
  }
 },
 "nbformat": 4,
 "nbformat_minor": 5
}
