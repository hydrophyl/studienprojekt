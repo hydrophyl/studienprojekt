{
 "cells": [
  {
   "cell_type": "code",
   "execution_count": 40,
   "id": "529569a5-d469-4873-bae0-f7d0292700f8",
   "metadata": {},
   "outputs": [],
   "source": [
    "#!/usr/bin/env python\n",
    "# -*- coding: utf-8 -*-\n",
    "\n",
    "HOST = \"localhost\"\n",
    "PORT = 4223\n",
    "UID = \"LdW\" # Change XYZ to the UID of your Particulate Matter Bricklet\n",
    "\n",
    "from tinkerforge.ip_connection import IPConnection\n",
    "from tinkerforge.bricklet_particulate_matter import BrickletParticulateMatter\n",
    "\n",
    "#setting up packages\n",
    "import os\n",
    "from os.path import exists\n",
    "import pandas as pd\n",
    "import datetime\n",
    "from time import strftime,localtime\n",
    "\n",
    "time_only = datetime.datetime.now().time().strftime(\"%H:%M:%S\")\n",
    "date_local = strftime(\"%d%m%Y\", localtime())\n",
    "df = pd.DataFrame({'Datum': [],\n",
    "                    'Zeit': [],\n",
    "                    'PM10': [],\n",
    "                    'PM25': [],\n",
    "                    'PM100': []})\n",
    "\n",
    "# Callback function for PM concentration callback\n",
    "def cb_pm_concentration(pm10, pm25, pm100):\n",
    "    #Wiederholungen\n",
    "    time_only = datetime.datetime.now().time().strftime(\"%H:%M:%S\")\n",
    "    date_local = strftime(\"%d%m%Y\", localtime())\n",
    "    #Erstellung ein pandas dataframe\n",
    "    path = \"./\" + date_local + \".csv\"\n",
    "    file_exists = exists(path)\n",
    "    if file_exists == False:\n",
    "        df.pop('Datum')\n",
    "        df.pop('Zeit')\n",
    "        df.pop('PM10')\n",
    "        df.pop('PM25')\n",
    "        df.pop('PM100')\n",
    "        df['Datum'] = ''\n",
    "        df['Zeit'] = ''\n",
    "        df['PM10'] = ''\n",
    "        df['PM25'] = ''\n",
    "        df['PM100'] = ''\n",
    "                         \n",
    "    df.loc[len(df.index)] = [date_local,time_only,pm10,pm25,pm100]\n",
    "    df.to_csv(filename, index=False, encoding='utf8')\n",
    "\n",
    "    "
   ]
  },
  {
   "cell_type": "code",
   "execution_count": 41,
   "id": "9fcc632e-0950-423c-9f35-fc921178d704",
   "metadata": {},
   "outputs": [
    {
     "name": "stdout",
     "output_type": "stream",
     "text": [
      "False\n"
     ]
    }
   ],
   "source": [
    " #Check if go to next day already?\n",
    "files = os.listdir()\n",
    "filename = date_local + \".csv\"\n",
    "file_exists = exists(filename)\n",
    "\n",
    "print(file_exists)"
   ]
  },
  {
   "cell_type": "code",
   "execution_count": 42,
   "id": "4c3e313a-a1bb-4030-a746-aaa2e2e0cfd0",
   "metadata": {},
   "outputs": [
    {
     "name": "stdin",
     "output_type": "stream",
     "text": [
      "Press key to exit\n",
      " \n"
     ]
    }
   ],
   "source": [
    "ipcon = IPConnection() # Create IP connection\n",
    "pm = BrickletParticulateMatter(UID, ipcon) # Create device object\n",
    "\n",
    "ipcon.connect(HOST, PORT) # Connect to brickd\n",
    "# Don't use device before ipcon is connected\n",
    "\n",
    "# Register PM concentration callback to function cb_pm_concentration\n",
    "pm.register_callback(pm.CALLBACK_PM_CONCENTRATION, cb_pm_concentration)\n",
    "\n",
    "# Set period for PM concentration callback to 1s (1000ms)\n",
    "pm.set_pm_concentration_callback_configuration(1000, False)\n",
    "\n",
    "input(\"Press key to exit\\n\") # Use raw_input() in Python 2\n",
    "ipcon.disconnect()"
   ]
  },
  {
   "cell_type": "code",
   "execution_count": null,
   "id": "fa60babe-4ba5-4f60-a7ec-a0e9400f6e6b",
   "metadata": {},
   "outputs": [],
   "source": []
  }
 ],
 "metadata": {
  "kernelspec": {
   "display_name": "Python 3 (ipykernel)",
   "language": "python",
   "name": "python3"
  },
  "language_info": {
   "codemirror_mode": {
    "name": "ipython",
    "version": 3
   },
   "file_extension": ".py",
   "mimetype": "text/x-python",
   "name": "python",
   "nbconvert_exporter": "python",
   "pygments_lexer": "ipython3",
   "version": "3.9.7"
  }
 },
 "nbformat": 4,
 "nbformat_minor": 5
}
